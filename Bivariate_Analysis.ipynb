{
 "cells": [
  {
   "cell_type": "markdown",
   "id": "bd12a6b5",
   "metadata": {},
   "source": [
    "Bivariate Analysis is the simultaneous analysis of two variables (attributes). It explores the concept of relationship between two variables, whether there exists an association and the strength of this association, or whether there are differences between two variables and the significance of these differences.\n",
    "\n",
    "<b>Scatter Plot</b> <br>\n",
    "* Scatter indicates the type (linear or non-linear) and strength of the relationship between two variables.\n",
    "    * Linear\n",
    "    * Logarithmic\n",
    "    * Exponential\n",
    "    * No relationship\n",
    "* We will use Scatter plot to transform variables.\n",
    "\n",
    "<b>Correlation</b><br>\n",
    "* Linear correlation quantifies the strength of a linear relationship between two numerical variables.\n",
    "* When there is no correlation between two variables, there is no tendency for the values of one quantity to increase or decrease with the values of the second quantity.\n",
    "* Correlation is used to drop Non Usable Variables"
   ]
  },
  {
   "cell_type": "markdown",
   "id": "7e5ce5f7",
   "metadata": {},
   "source": [
    "### Variable Transformation\n",
    "Transform your existing variable to extract more information out of them\n",
    "<br>\n",
    "<b>Methods</b> <br>\n",
    "* Use Mean/Median of variables conveying similar type of information\n",
    "* Create ratio variable which are more relevant to business.\n",
    "* Transform variable by taking log, exponential, roots\n",
    "* *Adding a constant, adding a negative effect*"
   ]
  },
  {
   "cell_type": "code",
   "execution_count": null,
   "id": "4aa6d1ac",
   "metadata": {},
   "outputs": [],
   "source": []
  },
  {
   "cell_type": "code",
   "execution_count": null,
   "id": "729ecf48",
   "metadata": {},
   "outputs": [],
   "source": []
  }
 ],
 "metadata": {
  "kernelspec": {
   "display_name": "Python 3 (ipykernel)",
   "language": "python",
   "name": "python3"
  },
  "language_info": {
   "codemirror_mode": {
    "name": "ipython",
    "version": 3
   },
   "file_extension": ".py",
   "mimetype": "text/x-python",
   "name": "python",
   "nbconvert_exporter": "python",
   "pygments_lexer": "ipython3",
   "version": "3.10.9"
  }
 },
 "nbformat": 4,
 "nbformat_minor": 5
}
