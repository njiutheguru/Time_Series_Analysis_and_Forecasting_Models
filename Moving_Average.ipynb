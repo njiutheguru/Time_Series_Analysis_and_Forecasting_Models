{
 "cells": [
  {
   "cell_type": "markdown",
   "id": "901bcb52",
   "metadata": {},
   "source": [
    "### MOVING AVERAGE Model\n",
    "#### STEPS\n",
    "1. Build a forecasting model (AR or Persistence Model)\n",
    "2. Find residual/ Forecast errors\n",
    "3. Build a forecast model on residuals\n",
    "4. Use forecasted residuals to update the initial forecast\n",
    "\n",
    "<b>*if initial forecasting in AR, this technique is called ARMA*<b>\n",
    "    "
   ]
  },
  {
   "cell_type": "code",
   "execution_count": 3,
   "id": "741e9582",
   "metadata": {},
   "outputs": [],
   "source": [
    "%matplotlib inline\n",
    "import pandas as pd\n",
    "import numpy as np\n",
    "import matplotlib.pyplot as plt\n",
    "import seaborn as sns"
   ]
  },
  {
   "cell_type": "code",
   "execution_count": 4,
   "id": "358f8749",
   "metadata": {},
   "outputs": [],
   "source": [
    "df = pd.read_csv('daily-min-temperatures.csv', header=0, parse_dates=[0])\n"
   ]
  },
  {
   "cell_type": "code",
   "execution_count": 5,
   "id": "c46def53",
   "metadata": {},
   "outputs": [
    {
     "data": {
      "text/html": [
       "<div>\n",
       "<style scoped>\n",
       "    .dataframe tbody tr th:only-of-type {\n",
       "        vertical-align: middle;\n",
       "    }\n",
       "\n",
       "    .dataframe tbody tr th {\n",
       "        vertical-align: top;\n",
       "    }\n",
       "\n",
       "    .dataframe thead th {\n",
       "        text-align: right;\n",
       "    }\n",
       "</style>\n",
       "<table border=\"1\" class=\"dataframe\">\n",
       "  <thead>\n",
       "    <tr style=\"text-align: right;\">\n",
       "      <th></th>\n",
       "      <th>Date</th>\n",
       "      <th>Temp</th>\n",
       "    </tr>\n",
       "  </thead>\n",
       "  <tbody>\n",
       "    <tr>\n",
       "      <th>0</th>\n",
       "      <td>1981-01-01</td>\n",
       "      <td>20.7</td>\n",
       "    </tr>\n",
       "    <tr>\n",
       "      <th>1</th>\n",
       "      <td>1981-01-02</td>\n",
       "      <td>17.9</td>\n",
       "    </tr>\n",
       "    <tr>\n",
       "      <th>2</th>\n",
       "      <td>1981-01-03</td>\n",
       "      <td>18.8</td>\n",
       "    </tr>\n",
       "    <tr>\n",
       "      <th>3</th>\n",
       "      <td>1981-01-04</td>\n",
       "      <td>14.6</td>\n",
       "    </tr>\n",
       "    <tr>\n",
       "      <th>4</th>\n",
       "      <td>1981-01-05</td>\n",
       "      <td>15.8</td>\n",
       "    </tr>\n",
       "  </tbody>\n",
       "</table>\n",
       "</div>"
      ],
      "text/plain": [
       "        Date  Temp\n",
       "0 1981-01-01  20.7\n",
       "1 1981-01-02  17.9\n",
       "2 1981-01-03  18.8\n",
       "3 1981-01-04  14.6\n",
       "4 1981-01-05  15.8"
      ]
     },
     "execution_count": 5,
     "metadata": {},
     "output_type": "execute_result"
    }
   ],
   "source": [
    "df.head()"
   ]
  },
  {
   "cell_type": "code",
   "execution_count": 6,
   "id": "f5fb5017",
   "metadata": {},
   "outputs": [],
   "source": [
    "df['t'] = df.Temp.shift(1)"
   ]
  },
  {
   "cell_type": "code",
   "execution_count": 7,
   "id": "dd2977a2",
   "metadata": {},
   "outputs": [],
   "source": [
    "df['Resid'] = df.Temp - df.t"
   ]
  },
  {
   "cell_type": "code",
   "execution_count": 8,
   "id": "d1818672",
   "metadata": {},
   "outputs": [
    {
     "data": {
      "text/html": [
       "<div>\n",
       "<style scoped>\n",
       "    .dataframe tbody tr th:only-of-type {\n",
       "        vertical-align: middle;\n",
       "    }\n",
       "\n",
       "    .dataframe tbody tr th {\n",
       "        vertical-align: top;\n",
       "    }\n",
       "\n",
       "    .dataframe thead th {\n",
       "        text-align: right;\n",
       "    }\n",
       "</style>\n",
       "<table border=\"1\" class=\"dataframe\">\n",
       "  <thead>\n",
       "    <tr style=\"text-align: right;\">\n",
       "      <th></th>\n",
       "      <th>Date</th>\n",
       "      <th>Temp</th>\n",
       "      <th>t</th>\n",
       "      <th>Resid</th>\n",
       "    </tr>\n",
       "  </thead>\n",
       "  <tbody>\n",
       "    <tr>\n",
       "      <th>0</th>\n",
       "      <td>1981-01-01</td>\n",
       "      <td>20.7</td>\n",
       "      <td>NaN</td>\n",
       "      <td>NaN</td>\n",
       "    </tr>\n",
       "    <tr>\n",
       "      <th>1</th>\n",
       "      <td>1981-01-02</td>\n",
       "      <td>17.9</td>\n",
       "      <td>20.7</td>\n",
       "      <td>-2.8</td>\n",
       "    </tr>\n",
       "    <tr>\n",
       "      <th>2</th>\n",
       "      <td>1981-01-03</td>\n",
       "      <td>18.8</td>\n",
       "      <td>17.9</td>\n",
       "      <td>0.9</td>\n",
       "    </tr>\n",
       "    <tr>\n",
       "      <th>3</th>\n",
       "      <td>1981-01-04</td>\n",
       "      <td>14.6</td>\n",
       "      <td>18.8</td>\n",
       "      <td>-4.2</td>\n",
       "    </tr>\n",
       "    <tr>\n",
       "      <th>4</th>\n",
       "      <td>1981-01-05</td>\n",
       "      <td>15.8</td>\n",
       "      <td>14.6</td>\n",
       "      <td>1.2</td>\n",
       "    </tr>\n",
       "  </tbody>\n",
       "</table>\n",
       "</div>"
      ],
      "text/plain": [
       "        Date  Temp     t  Resid\n",
       "0 1981-01-01  20.7   NaN    NaN\n",
       "1 1981-01-02  17.9  20.7   -2.8\n",
       "2 1981-01-03  18.8  17.9    0.9\n",
       "3 1981-01-04  14.6  18.8   -4.2\n",
       "4 1981-01-05  15.8  14.6    1.2"
      ]
     },
     "execution_count": 8,
     "metadata": {},
     "output_type": "execute_result"
    }
   ],
   "source": [
    "df.head()"
   ]
  },
  {
   "cell_type": "code",
   "execution_count": 9,
   "id": "a7c7677b",
   "metadata": {},
   "outputs": [],
   "source": [
    "train, test = df.Resid[1:df.shape[0]-7], df.Resid[df.shape[0]-7:]"
   ]
  },
  {
   "cell_type": "code",
   "execution_count": 10,
   "id": "ec06e82b",
   "metadata": {},
   "outputs": [
    {
     "data": {
      "text/plain": [
       "1   -2.8\n",
       "2    0.9\n",
       "3   -4.2\n",
       "4    1.2\n",
       "5    0.0\n",
       "Name: Resid, dtype: float64"
      ]
     },
     "execution_count": 10,
     "metadata": {},
     "output_type": "execute_result"
    }
   ],
   "source": [
    "train.head()"
   ]
  },
  {
   "cell_type": "code",
   "execution_count": 11,
   "id": "2d9f23e9",
   "metadata": {},
   "outputs": [
    {
     "data": {
      "text/plain": [
       "3643    2.9\n",
       "3644    1.7\n",
       "3645   -0.6\n",
       "3646   -0.4\n",
       "3647   -0.1\n",
       "Name: Resid, dtype: float64"
      ]
     },
     "execution_count": 11,
     "metadata": {},
     "output_type": "execute_result"
    }
   ],
   "source": [
    "test.head()"
   ]
  },
  {
   "cell_type": "code",
   "execution_count": 20,
   "id": "94c507bc",
   "metadata": {},
   "outputs": [],
   "source": [
    "from statsmodels.tsa.ar_model import AutoReg\n",
    "model = AutoReg(train, lags=29)\n",
    "model_fit = model.fit()"
   ]
  },
  {
   "cell_type": "code",
   "execution_count": 21,
   "id": "c3c96e29",
   "metadata": {},
   "outputs": [
    {
     "data": {
      "text/plain": [
       "const       -0.006415\n",
       "Resid.L1    -0.407139\n",
       "Resid.L2    -0.496194\n",
       "Resid.L3    -0.445747\n",
       "Resid.L4    -0.403706\n",
       "Resid.L5    -0.362528\n",
       "Resid.L6    -0.334810\n",
       "Resid.L7    -0.288468\n",
       "Resid.L8    -0.274281\n",
       "Resid.L9    -0.235333\n",
       "Resid.L10   -0.234799\n",
       "Resid.L11   -0.228532\n",
       "Resid.L12   -0.208608\n",
       "Resid.L13   -0.180324\n",
       "Resid.L14   -0.178425\n",
       "Resid.L15   -0.152265\n",
       "Resid.L16   -0.143617\n",
       "Resid.L17   -0.132501\n",
       "Resid.L18   -0.097075\n",
       "Resid.L19   -0.104927\n",
       "Resid.L20   -0.079371\n",
       "Resid.L21   -0.059348\n",
       "Resid.L22   -0.045921\n",
       "Resid.L23   -0.063197\n",
       "Resid.L24   -0.063441\n",
       "Resid.L25   -0.045061\n",
       "Resid.L26   -0.023578\n",
       "Resid.L27   -0.011882\n",
       "Resid.L28   -0.003789\n",
       "Resid.L29   -0.003422\n",
       "dtype: float64"
      ]
     },
     "execution_count": 21,
     "metadata": {},
     "output_type": "execute_result"
    }
   ],
   "source": [
    "model_fit.params"
   ]
  },
  {
   "cell_type": "code",
   "execution_count": 44,
   "id": "00e92d28",
   "metadata": {},
   "outputs": [],
   "source": [
    "pred_resid = model_fit.predict(start=len(train), end=len(train)+len(test)-1)"
   ]
  },
  {
   "cell_type": "code",
   "execution_count": 45,
   "id": "643bb79e",
   "metadata": {},
   "outputs": [
    {
     "data": {
      "text/plain": [
       "3643    1.264192\n",
       "3644    0.510869\n",
       "3645   -0.251687\n",
       "3646   -0.122054\n",
       "3647    0.077509\n",
       "3648    0.055600\n",
       "3649         NaN\n",
       "dtype: float64"
      ]
     },
     "execution_count": 45,
     "metadata": {},
     "output_type": "execute_result"
    }
   ],
   "source": [
    "pred_resid"
   ]
  },
  {
   "cell_type": "code",
   "execution_count": 46,
   "id": "01ee959a",
   "metadata": {},
   "outputs": [],
   "source": [
    "predictions = df.t[df.shape[0]-7] + pred_resid"
   ]
  },
  {
   "cell_type": "code",
   "execution_count": 47,
   "id": "3818fb66",
   "metadata": {},
   "outputs": [
    {
     "data": {
      "text/plain": [
       "3643    11.264192\n",
       "3644    10.510869\n",
       "3645     9.748313\n",
       "3646     9.877946\n",
       "3647    10.077509\n",
       "3648    10.055600\n",
       "3649          NaN\n",
       "dtype: float64"
      ]
     },
     "execution_count": 47,
     "metadata": {},
     "output_type": "execute_result"
    }
   ],
   "source": [
    "predictions"
   ]
  },
  {
   "cell_type": "code",
   "execution_count": 52,
   "id": "9f97db73",
   "metadata": {},
   "outputs": [
    {
     "data": {
      "text/plain": [
       "87.60117245144413"
      ]
     },
     "execution_count": 52,
     "metadata": {},
     "output_type": "execute_result"
    }
   ],
   "source": [
    "from sklearn.metrics import mean_squared_error\n",
    "mse = mean_squared_error(test[:-1], predictions[:-1])\n",
    "mse # *** #"
   ]
  },
  {
   "cell_type": "markdown",
   "id": "1c144d8d",
   "metadata": {},
   "source": [
    "ARIMA Model"
   ]
  },
  {
   "cell_type": "code",
   "execution_count": null,
   "id": "6bdf6bab",
   "metadata": {},
   "outputs": [],
   "source": []
  }
 ],
 "metadata": {
  "kernelspec": {
   "display_name": "Python 3 (ipykernel)",
   "language": "python",
   "name": "python3"
  },
  "language_info": {
   "codemirror_mode": {
    "name": "ipython",
    "version": 3
   },
   "file_extension": ".py",
   "mimetype": "text/x-python",
   "name": "python",
   "nbconvert_exporter": "python",
   "pygments_lexer": "ipython3",
   "version": "3.10.9"
  }
 },
 "nbformat": 4,
 "nbformat_minor": 5
}
