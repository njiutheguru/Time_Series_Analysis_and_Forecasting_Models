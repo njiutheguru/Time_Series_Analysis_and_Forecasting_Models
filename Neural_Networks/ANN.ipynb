{
 "cells": [
  {
   "cell_type": "code",
   "execution_count": 1,
   "id": "521eee2d",
   "metadata": {},
   "outputs": [],
   "source": [
    "%matplotlib inline \n",
    "import numpy as np\n",
    "import pandas as pd\n",
    "import matplotlib as mpl\n",
    "import matplotlib.pyplot as plt"
   ]
  },
  {
   "cell_type": "markdown",
   "id": "09af0251",
   "metadata": {},
   "source": [
    "### Building an Image Classifier\n",
    "First Let's install and import TensorFlow and Keras\n",
    "* conda install tensorflow\n",
    "* conda install pip\n",
    "* pip install --upgrade tensorflow"
   ]
  },
  {
   "cell_type": "code",
   "execution_count": 2,
   "id": "19eb51d1",
   "metadata": {},
   "outputs": [],
   "source": [
    "import tensorflow as tf\n",
    "from tensorflow import keras"
   ]
  },
  {
   "cell_type": "code",
   "execution_count": 3,
   "id": "ee230c6a",
   "metadata": {},
   "outputs": [
    {
     "name": "stdout",
     "output_type": "stream",
     "text": [
      "2.14.0\n"
     ]
    }
   ],
   "source": [
    "print(tf.__version__)"
   ]
  },
  {
   "cell_type": "code",
   "execution_count": 4,
   "id": "4818a5f3",
   "metadata": {},
   "outputs": [
    {
     "data": {
      "text/plain": [
       "'keras.api._v2.keras'"
      ]
     },
     "execution_count": 4,
     "metadata": {},
     "output_type": "execute_result"
    }
   ],
   "source": [
    "keras.__name__"
   ]
  },
  {
   "cell_type": "markdown",
   "id": "ee27636d",
   "metadata": {},
   "source": [
    "## Load dataset"
   ]
  },
  {
   "cell_type": "code",
   "execution_count": 5,
   "id": "57ff0199",
   "metadata": {},
   "outputs": [],
   "source": [
    "fashion = keras.datasets.fashion_mnist\n",
    "(x_train_full, y_train_full),(x_test, y_test) = fashion.load_data()"
   ]
  },
  {
   "cell_type": "code",
   "execution_count": 6,
   "id": "f4ab04e8",
   "metadata": {},
   "outputs": [
    {
     "data": {
      "image/png": "[encoded data removed]",
      "text/plain": [
       "<Figure size 640x480 with 1 Axes>"
      ]
     },
     "metadata": {},
     "output_type": "display_data"
    }
   ],
   "source": [
    "plt.imshow(x_train_full[1])\n",
    "plt.show()"
   ]
  },
  {
   "cell_type": "markdown",
   "id": "95ec6aee",
   "metadata": {},
   "source": [
    "$$\n",
    "\\begin{aligned}\n",
    "& \\text {Fashion_minst dataset}\\\\\n",
    "&\\begin{array}{cccc}\n",
    "\\hline \\hline \\text { Label } & \\text { Description }\\\\\n",
    "\\hline 0 & T-shirt/top  \\\\\n",
    "1 & Trouser  \\\\\n",
    "2 & Pullover \\\\\n",
    "3 & Dress \\\\\n",
    "4 & Coat \\\\\n",
    "5 & Sandal\\\\\n",
    "6 & Shirt\\\\\n",
    "7 & Sneaker\\\\\n",
    "8 & Bag\\\\\n",
    "9 & Ankle Boot\\\\\n",
    "\\hline\n",
    "\\end{array}\n",
    "\\end{aligned}\n",
    "$$"
   ]
  },
  {
   "cell_type": "code",
   "execution_count": 7,
   "id": "cd76b1e3",
   "metadata": {},
   "outputs": [
    {
     "data": {
      "text/plain": [
       "9"
      ]
     },
     "execution_count": 7,
     "metadata": {},
     "output_type": "execute_result"
    }
   ],
   "source": [
    "y_train_full[0]"
   ]
  },
  {
   "cell_type": "code",
   "execution_count": 8,
   "id": "d12284ce",
   "metadata": {},
   "outputs": [],
   "source": [
    "class_names = [\"T-shirt/top\",'Trouser','Pullover','Dress','Coat','Sandal','Shirt','Sneaker','Bag','Ankle boot']"
   ]
  },
  {
   "cell_type": "code",
   "execution_count": 9,
   "id": "ec939563",
   "metadata": {},
   "outputs": [
    {
     "data": {
      "image/png": "[encoded data removed]",
      "text/plain": [
       "<Figure size 640x480 with 1 Axes>"
      ]
     },
     "metadata": {},
     "output_type": "display_data"
    }
   ],
   "source": [
    "location = 5\n",
    "plt.imshow(x_train_full[location])\n",
    "plt.show()"
   ]
  },
  {
   "cell_type": "code",
   "execution_count": 10,
   "id": "94757b7f",
   "metadata": {},
   "outputs": [
    {
     "data": {
      "text/plain": [
       "'Pullover'"
      ]
     },
     "execution_count": 10,
     "metadata": {},
     "output_type": "execute_result"
    }
   ],
   "source": [
    "class_names[y_train_full[location]]"
   ]
  },
  {
   "cell_type": "code",
   "execution_count": 11,
   "id": "91148f02",
   "metadata": {},
   "outputs": [
    {
     "data": {
      "text/plain": [
       "array([[  0,   0,   0,   0,   0,   0,   0,  11, 142, 200, 106,   0,   0,\n",
       "          0,   0,   0,   0,   0,  85, 185, 112,   0,   0,   0,   0,   0,\n",
       "          0,   0],\n",
       "       [  0,   0,   0,   0,   0,   0, 152, 214, 217, 194, 236, 216, 187,\n",
       "        149, 135, 153, 211, 217, 231, 205, 217, 188,  34,   0,   0,   0,\n",
       "          0,   0],\n",
       "       [  0,   0,   0,   0,   0,  66, 185, 166, 180, 181, 190, 211, 221,\n",
       "        197, 146, 198, 206, 191, 168, 190, 172, 188, 175,   0,   0,   0,\n",
       "          0,   0],\n",
       "       [  0,   0,   0,   0,   0, 135, 153, 160, 175, 180, 170, 186, 187,\n",
       "        190, 188, 190, 187, 174, 195, 185, 174, 161, 175,  59,   0,   0,\n",
       "          0,   0],\n",
       "       [  0,   0,   0,   0,   0, 161, 147, 160, 170, 178, 177, 180, 168,\n",
       "        173, 174, 171, 185, 184, 185, 172, 171, 164, 174, 120,   0,   0,\n",
       "          0,   0],\n",
       "       [  0,   0,   0,   0,   2, 175, 146, 145, 168, 178, 181, 185, 180,\n",
       "        184, 178, 179, 187, 191, 193, 190, 181, 171, 172, 158,   0,   0,\n",
       "          0,   0],\n",
       "       [  0,   0,   0,   0,  35, 177, 155, 140, 151, 172, 191, 187, 186,\n",
       "        187, 186, 187, 182, 191, 194, 188, 180, 161, 161, 185,   0,   0,\n",
       "          0,   0],\n",
       "       [  0,   0,   0,   0,  59, 170, 153, 141, 120, 154, 160, 161, 172,\n",
       "        168, 166, 161, 165, 172, 170, 164, 139, 149, 162, 166,  21,   0,\n",
       "          0,   0],\n",
       "       [  0,   0,   0,   0,  79, 145, 160, 214, 123, 128, 153, 160, 164,\n",
       "        158, 157, 154, 155, 170, 165, 141, 195, 193, 152, 166,  61,   0,\n",
       "          0,   0],\n",
       "       [  0,   0,   0,   0, 100, 157, 225, 245, 175, 113, 174, 158, 158,\n",
       "        160, 155, 160, 164, 178, 188, 135, 185, 240, 201, 172, 108,   0,\n",
       "          0,   0],\n",
       "       [  0,   0,   0,   0,   0,  31, 174,  28, 126, 153, 166, 152, 158,\n",
       "        158, 160, 161, 157, 168, 191, 188,  18, 132, 159,   7,   0,   0,\n",
       "          0,   0],\n",
       "       [  0,   0,   0,   0,   0,   0,   0,   0,  82, 187, 159, 153, 157,\n",
       "        158, 162, 164, 164, 154, 187, 190,   0,   0,   0,   0,   0,   0,\n",
       "          0,   0],\n",
       "       [  0,   0,   0,   0,   1,   3,   5,   0,  37, 175, 158, 155, 162,\n",
       "        158, 160, 162, 165, 153, 177, 205,   0,   0,   3,   3,   0,   0,\n",
       "          0,   0],\n",
       "       [  0,   0,   0,   0,   0,   0,   1,   0,  25, 175, 152, 160, 158,\n",
       "        161, 160, 164, 164, 161, 166, 200,   0,   0,   1,   0,   0,   0,\n",
       "          0,   0],\n",
       "       [  0,   0,   0,   0,   0,   0,   4,   0,  30, 171, 147, 164, 155,\n",
       "        165, 161, 165, 162, 170, 164, 162,   0,   0,   2,   0,   0,   0,\n",
       "          0,   0],\n",
       "       [  0,   0,   0,   0,   0,   0,   4,   0,  57, 166, 155, 164, 166,\n",
       "        161, 161, 164, 167, 165, 165, 162,  28,   0,   3,   0,   0,   0,\n",
       "          0,   0],\n",
       "       [  0,   0,   0,   0,   0,   0,   3,   0, 114, 161, 161, 166, 159,\n",
       "        168, 161, 161, 172, 162, 165, 171,  50,   0,   5,   0,   0,   0,\n",
       "          0,   0],\n",
       "       [  0,   0,   0,   0,   0,   0,   1,   0, 149, 157, 167, 172, 159,\n",
       "        172, 164, 161, 172, 170, 160, 171,  89,   0,   4,   0,   0,   0,\n",
       "          0,   0],\n",
       "       [  0,   0,   0,   0,   0,   2,   0,   4, 171, 164, 166, 173, 159,\n",
       "        179, 166, 160, 174, 167, 162, 166, 128,   0,   2,   0,   0,   0,\n",
       "          0,   0],\n",
       "       [  0,   0,   0,   0,   0,   3,   0,  18, 152, 173, 160, 179, 154,\n",
       "        181, 166, 164, 175, 170, 166, 170, 164,   0,   0,   1,   0,   0,\n",
       "          0,   0],\n",
       "       [  0,   0,   0,   0,   0,   4,   0,  47, 165, 172, 167, 185, 153,\n",
       "        187, 173, 165, 174, 179, 166, 166, 158,   5,   0,   3,   0,   0,\n",
       "          0,   0],\n",
       "       [  0,   0,   0,   0,   0,   4,   0,  87, 180, 162, 179, 179, 157,\n",
       "        191, 182, 165, 168, 190, 173, 165, 166,  20,   0,   4,   0,   0,\n",
       "          0,   0],\n",
       "       [  0,   0,   0,   0,   0,   4,   0, 105, 187, 157, 194, 175, 161,\n",
       "        190, 184, 170, 158, 205, 177, 168, 171,  44,   0,   4,   0,   0,\n",
       "          0,   0],\n",
       "       [  0,   0,   0,   0,   0,   5,   0, 138, 181, 158, 205, 160, 167,\n",
       "        190, 198, 167, 152, 218, 186, 170, 172,  57,   0,   5,   0,   0,\n",
       "          0,   0],\n",
       "       [  0,   0,   0,   0,   0,   5,   0, 135, 174, 167, 199, 155, 166,\n",
       "        201, 219, 165, 158, 218, 188, 167, 175,  56,   0,   7,   0,   0,\n",
       "          0,   0],\n",
       "       [  0,   0,   0,   0,   0,   5,   0, 129, 171, 172, 177, 153, 159,\n",
       "        206, 216, 148, 157, 206, 190, 165, 175,  48,   0,   5,   0,   0,\n",
       "          0,   0],\n",
       "       [  0,   0,   0,   0,   0,   5,   0, 167, 187, 182, 198, 194, 200,\n",
       "        226, 240, 184, 206, 255, 197, 178, 179,  42,   0,   5,   0,   0,\n",
       "          0,   0],\n",
       "       [  0,   0,   0,   0,   0,   3,   0, 115, 135, 113, 106,  85,  82,\n",
       "        108, 133,  83,  90, 121, 120, 110, 158,  18,   0,   3,   0,   0,\n",
       "          0,   0]], dtype=uint8)"
      ]
     },
     "execution_count": 11,
     "metadata": {},
     "output_type": "execute_result"
    }
   ],
   "source": [
    "x_train_full[10]"
   ]
  },
  {
   "cell_type": "markdown",
   "id": "8339ac03",
   "metadata": {},
   "source": [
    "### Data Normalization\n",
    "We then normalize the data dimensions so that they are of approximately teh same scale."
   ]
  },
  {
   "cell_type": "code",
   "execution_count": 12,
   "id": "b07a0d77",
   "metadata": {},
   "outputs": [],
   "source": [
    "x_train_n =x_train_full / 255\n",
    "x_test_n = x_test / 255"
   ]
  },
  {
   "cell_type": "markdown",
   "id": "fdb966b1",
   "metadata": {},
   "source": [
    "### Split the data into train/validation/test datasets"
   ]
  },
  {
   "cell_type": "code",
   "execution_count": 13,
   "id": "2fd112e4",
   "metadata": {},
   "outputs": [],
   "source": [
    "x_valid, x_train = x_train_n[:5000], x_train_n[5000:]\n",
    "y_valid, y_train = y_train_full[:5000], y_train_full[5000:]\n",
    "x_test = x_test_n"
   ]
  },
  {
   "cell_type": "code",
   "execution_count": 14,
   "id": "e6f804ad",
   "metadata": {},
   "outputs": [
    {
     "data": {
      "text/plain": [
       "array([[0.        , 0.        , 0.        , 0.        , 0.        ,\n",
       "        0.        , 0.        , 0.        , 0.        , 0.        ,\n",
       "        0.        , 0.        , 0.        , 0.        , 0.        ,\n",
       "        0.        , 0.        , 0.        , 0.        , 0.        ,\n",
       "        0.        , 0.        , 0.        , 0.        , 0.        ,\n",
       "        0.        , 0.        , 0.        ],\n",
       "       [0.        , 0.        , 0.        , 0.        , 0.        ,\n",
       "        0.        , 0.        , 0.        , 0.        , 0.        ,\n",
       "        0.        , 0.        , 0.        , 0.        , 0.        ,\n",
       "        0.        , 0.        , 0.        , 0.        , 0.        ,\n",
       "        0.        , 0.        , 0.        , 0.        , 0.        ,\n",
       "        0.        , 0.        , 0.        ],\n",
       "       [0.        , 0.        , 0.        , 0.        , 0.        ,\n",
       "        0.        , 0.        , 0.        , 0.        , 0.        ,\n",
       "        0.        , 0.        , 0.        , 0.        , 0.        ,\n",
       "        0.        , 0.        , 0.        , 0.        , 0.        ,\n",
       "        0.        , 0.        , 0.        , 0.        , 0.        ,\n",
       "        0.        , 0.        , 0.        ],\n",
       "       [0.        , 0.        , 0.        , 0.        , 0.        ,\n",
       "        0.        , 0.        , 0.        , 0.        , 0.        ,\n",
       "        0.        , 0.        , 0.00392157, 0.        , 0.        ,\n",
       "        0.05098039, 0.28627451, 0.        , 0.        , 0.00392157,\n",
       "        0.01568627, 0.        , 0.        , 0.        , 0.        ,\n",
       "        0.00392157, 0.00392157, 0.        ],\n",
       "       [0.        , 0.        , 0.        , 0.        , 0.        ,\n",
       "        0.        , 0.        , 0.        , 0.        , 0.        ,\n",
       "        0.        , 0.        , 0.01176471, 0.        , 0.14117647,\n",
       "        0.53333333, 0.49803922, 0.24313725, 0.21176471, 0.        ,\n",
       "        0.        , 0.        , 0.00392157, 0.01176471, 0.01568627,\n",
       "        0.        , 0.        , 0.01176471],\n",
       "       [0.        , 0.        , 0.        , 0.        , 0.        ,\n",
       "        0.        , 0.        , 0.        , 0.        , 0.        ,\n",
       "        0.        , 0.        , 0.02352941, 0.        , 0.4       ,\n",
       "        0.8       , 0.69019608, 0.5254902 , 0.56470588, 0.48235294,\n",
       "        0.09019608, 0.        , 0.        , 0.        , 0.        ,\n",
       "        0.04705882, 0.03921569, 0.        ],\n",
       "       [0.        , 0.        , 0.        , 0.        , 0.        ,\n",
       "        0.        , 0.        , 0.        , 0.        , 0.        ,\n",
       "        0.        , 0.        , 0.        , 0.        , 0.60784314,\n",
       "        0.9254902 , 0.81176471, 0.69803922, 0.41960784, 0.61176471,\n",
       "        0.63137255, 0.42745098, 0.25098039, 0.09019608, 0.30196078,\n",
       "        0.50980392, 0.28235294, 0.05882353],\n",
       "       [0.        , 0.        , 0.        , 0.        , 0.        ,\n",
       "        0.        , 0.        , 0.        , 0.        , 0.        ,\n",
       "        0.        , 0.00392157, 0.        , 0.27058824, 0.81176471,\n",
       "        0.8745098 , 0.85490196, 0.84705882, 0.84705882, 0.63921569,\n",
       "        0.49803922, 0.4745098 , 0.47843137, 0.57254902, 0.55294118,\n",
       "        0.34509804, 0.6745098 , 0.25882353],\n",
       "       [0.        , 0.        , 0.        , 0.        , 0.        ,\n",
       "        0.        , 0.        , 0.        , 0.        , 0.00392157,\n",
       "        0.00392157, 0.00392157, 0.        , 0.78431373, 0.90980392,\n",
       "        0.90980392, 0.91372549, 0.89803922, 0.8745098 , 0.8745098 ,\n",
       "        0.84313725, 0.83529412, 0.64313725, 0.49803922, 0.48235294,\n",
       "        0.76862745, 0.89803922, 0.        ],\n",
       "       [0.        , 0.        , 0.        , 0.        , 0.        ,\n",
       "        0.        , 0.        , 0.        , 0.        , 0.        ,\n",
       "        0.        , 0.        , 0.        , 0.71764706, 0.88235294,\n",
       "        0.84705882, 0.8745098 , 0.89411765, 0.92156863, 0.89019608,\n",
       "        0.87843137, 0.87058824, 0.87843137, 0.86666667, 0.8745098 ,\n",
       "        0.96078431, 0.67843137, 0.        ],\n",
       "       [0.        , 0.        , 0.        , 0.        , 0.        ,\n",
       "        0.        , 0.        , 0.        , 0.        , 0.        ,\n",
       "        0.        , 0.        , 0.        , 0.75686275, 0.89411765,\n",
       "        0.85490196, 0.83529412, 0.77647059, 0.70588235, 0.83137255,\n",
       "        0.82352941, 0.82745098, 0.83529412, 0.8745098 , 0.8627451 ,\n",
       "        0.95294118, 0.79215686, 0.        ],\n",
       "       [0.        , 0.        , 0.        , 0.        , 0.        ,\n",
       "        0.        , 0.        , 0.        , 0.        , 0.00392157,\n",
       "        0.01176471, 0.        , 0.04705882, 0.85882353, 0.8627451 ,\n",
       "        0.83137255, 0.85490196, 0.75294118, 0.6627451 , 0.89019608,\n",
       "        0.81568627, 0.85490196, 0.87843137, 0.83137255, 0.88627451,\n",
       "        0.77254902, 0.81960784, 0.20392157],\n",
       "       [0.        , 0.        , 0.        , 0.        , 0.        ,\n",
       "        0.        , 0.        , 0.        , 0.        , 0.        ,\n",
       "        0.02352941, 0.        , 0.38823529, 0.95686275, 0.87058824,\n",
       "        0.8627451 , 0.85490196, 0.79607843, 0.77647059, 0.86666667,\n",
       "        0.84313725, 0.83529412, 0.87058824, 0.8627451 , 0.96078431,\n",
       "        0.46666667, 0.65490196, 0.21960784],\n",
       "       [0.        , 0.        , 0.        , 0.        , 0.        ,\n",
       "        0.        , 0.        , 0.        , 0.        , 0.01568627,\n",
       "        0.        , 0.        , 0.21568627, 0.9254902 , 0.89411765,\n",
       "        0.90196078, 0.89411765, 0.94117647, 0.90980392, 0.83529412,\n",
       "        0.85490196, 0.8745098 , 0.91764706, 0.85098039, 0.85098039,\n",
       "        0.81960784, 0.36078431, 0.        ],\n",
       "       [0.        , 0.        , 0.00392157, 0.01568627, 0.02352941,\n",
       "        0.02745098, 0.00784314, 0.        , 0.        , 0.        ,\n",
       "        0.        , 0.        , 0.92941176, 0.88627451, 0.85098039,\n",
       "        0.8745098 , 0.87058824, 0.85882353, 0.87058824, 0.86666667,\n",
       "        0.84705882, 0.8745098 , 0.89803922, 0.84313725, 0.85490196,\n",
       "        1.        , 0.30196078, 0.        ],\n",
       "       [0.        , 0.01176471, 0.        , 0.        , 0.        ,\n",
       "        0.        , 0.        , 0.        , 0.        , 0.24313725,\n",
       "        0.56862745, 0.8       , 0.89411765, 0.81176471, 0.83529412,\n",
       "        0.86666667, 0.85490196, 0.81568627, 0.82745098, 0.85490196,\n",
       "        0.87843137, 0.8745098 , 0.85882353, 0.84313725, 0.87843137,\n",
       "        0.95686275, 0.62352941, 0.        ],\n",
       "       [0.        , 0.        , 0.        , 0.        , 0.07058824,\n",
       "        0.17254902, 0.32156863, 0.41960784, 0.74117647, 0.89411765,\n",
       "        0.8627451 , 0.87058824, 0.85098039, 0.88627451, 0.78431373,\n",
       "        0.80392157, 0.82745098, 0.90196078, 0.87843137, 0.91764706,\n",
       "        0.69019608, 0.7372549 , 0.98039216, 0.97254902, 0.91372549,\n",
       "        0.93333333, 0.84313725, 0.        ],\n",
       "       [0.        , 0.22352941, 0.73333333, 0.81568627, 0.87843137,\n",
       "        0.86666667, 0.87843137, 0.81568627, 0.8       , 0.83921569,\n",
       "        0.81568627, 0.81960784, 0.78431373, 0.62352941, 0.96078431,\n",
       "        0.75686275, 0.80784314, 0.8745098 , 1.        , 1.        ,\n",
       "        0.86666667, 0.91764706, 0.86666667, 0.82745098, 0.8627451 ,\n",
       "        0.90980392, 0.96470588, 0.        ],\n",
       "       [0.01176471, 0.79215686, 0.89411765, 0.87843137, 0.86666667,\n",
       "        0.82745098, 0.82745098, 0.83921569, 0.80392157, 0.80392157,\n",
       "        0.80392157, 0.8627451 , 0.94117647, 0.31372549, 0.58823529,\n",
       "        1.        , 0.89803922, 0.86666667, 0.7372549 , 0.60392157,\n",
       "        0.74901961, 0.82352941, 0.8       , 0.81960784, 0.87058824,\n",
       "        0.89411765, 0.88235294, 0.        ],\n",
       "       [0.38431373, 0.91372549, 0.77647059, 0.82352941, 0.87058824,\n",
       "        0.89803922, 0.89803922, 0.91764706, 0.97647059, 0.8627451 ,\n",
       "        0.76078431, 0.84313725, 0.85098039, 0.94509804, 0.25490196,\n",
       "        0.28627451, 0.41568627, 0.45882353, 0.65882353, 0.85882353,\n",
       "        0.86666667, 0.84313725, 0.85098039, 0.8745098 , 0.8745098 ,\n",
       "        0.87843137, 0.89803922, 0.11372549],\n",
       "       [0.29411765, 0.8       , 0.83137255, 0.8       , 0.75686275,\n",
       "        0.80392157, 0.82745098, 0.88235294, 0.84705882, 0.7254902 ,\n",
       "        0.77254902, 0.80784314, 0.77647059, 0.83529412, 0.94117647,\n",
       "        0.76470588, 0.89019608, 0.96078431, 0.9372549 , 0.8745098 ,\n",
       "        0.85490196, 0.83137255, 0.81960784, 0.87058824, 0.8627451 ,\n",
       "        0.86666667, 0.90196078, 0.2627451 ],\n",
       "       [0.18823529, 0.79607843, 0.71764706, 0.76078431, 0.83529412,\n",
       "        0.77254902, 0.7254902 , 0.74509804, 0.76078431, 0.75294118,\n",
       "        0.79215686, 0.83921569, 0.85882353, 0.86666667, 0.8627451 ,\n",
       "        0.9254902 , 0.88235294, 0.84705882, 0.78039216, 0.80784314,\n",
       "        0.72941176, 0.70980392, 0.69411765, 0.6745098 , 0.70980392,\n",
       "        0.80392157, 0.80784314, 0.45098039],\n",
       "       [0.        , 0.47843137, 0.85882353, 0.75686275, 0.70196078,\n",
       "        0.67058824, 0.71764706, 0.76862745, 0.8       , 0.82352941,\n",
       "        0.83529412, 0.81176471, 0.82745098, 0.82352941, 0.78431373,\n",
       "        0.76862745, 0.76078431, 0.74901961, 0.76470588, 0.74901961,\n",
       "        0.77647059, 0.75294118, 0.69019608, 0.61176471, 0.65490196,\n",
       "        0.69411765, 0.82352941, 0.36078431],\n",
       "       [0.        , 0.        , 0.29019608, 0.74117647, 0.83137255,\n",
       "        0.74901961, 0.68627451, 0.6745098 , 0.68627451, 0.70980392,\n",
       "        0.7254902 , 0.7372549 , 0.74117647, 0.7372549 , 0.75686275,\n",
       "        0.77647059, 0.8       , 0.81960784, 0.82352941, 0.82352941,\n",
       "        0.82745098, 0.7372549 , 0.7372549 , 0.76078431, 0.75294118,\n",
       "        0.84705882, 0.66666667, 0.        ],\n",
       "       [0.00784314, 0.        , 0.        , 0.        , 0.25882353,\n",
       "        0.78431373, 0.87058824, 0.92941176, 0.9372549 , 0.94901961,\n",
       "        0.96470588, 0.95294118, 0.95686275, 0.86666667, 0.8627451 ,\n",
       "        0.75686275, 0.74901961, 0.70196078, 0.71372549, 0.71372549,\n",
       "        0.70980392, 0.69019608, 0.65098039, 0.65882353, 0.38823529,\n",
       "        0.22745098, 0.        , 0.        ],\n",
       "       [0.        , 0.        , 0.        , 0.        , 0.        ,\n",
       "        0.        , 0.        , 0.15686275, 0.23921569, 0.17254902,\n",
       "        0.28235294, 0.16078431, 0.1372549 , 0.        , 0.        ,\n",
       "        0.        , 0.        , 0.        , 0.        , 0.        ,\n",
       "        0.        , 0.        , 0.        , 0.        , 0.        ,\n",
       "        0.        , 0.        , 0.        ],\n",
       "       [0.        , 0.        , 0.        , 0.        , 0.        ,\n",
       "        0.        , 0.        , 0.        , 0.        , 0.        ,\n",
       "        0.        , 0.        , 0.        , 0.        , 0.        ,\n",
       "        0.        , 0.        , 0.        , 0.        , 0.        ,\n",
       "        0.        , 0.        , 0.        , 0.        , 0.        ,\n",
       "        0.        , 0.        , 0.        ],\n",
       "       [0.        , 0.        , 0.        , 0.        , 0.        ,\n",
       "        0.        , 0.        , 0.        , 0.        , 0.        ,\n",
       "        0.        , 0.        , 0.        , 0.        , 0.        ,\n",
       "        0.        , 0.        , 0.        , 0.        , 0.        ,\n",
       "        0.        , 0.        , 0.        , 0.        , 0.        ,\n",
       "        0.        , 0.        , 0.        ]])"
      ]
     },
     "execution_count": 14,
     "metadata": {},
     "output_type": "execute_result"
    }
   ],
   "source": [
    "x_valid[0]"
   ]
  },
  {
   "cell_type": "markdown",
   "id": "cdeefcf2",
   "metadata": {},
   "source": [
    "## Create the model Architecture\n",
    "There are two APIs for defining a model in keras:\n",
    "* Sequential model API\n",
    "* Functional API"
   ]
  },
  {
   "cell_type": "code",
   "execution_count": 15,
   "id": "6db1ad87",
   "metadata": {},
   "outputs": [
    {
     "data": {
      "text/plain": [
       "[1, 2, 3]"
      ]
     },
     "execution_count": 15,
     "metadata": {},
     "output_type": "execute_result"
    }
   ],
   "source": [
    "sorted([1,2,3])"
   ]
  },
  {
   "cell_type": "code",
   "execution_count": 16,
   "id": "c2e68e39",
   "metadata": {},
   "outputs": [],
   "source": [
    "def stone(string, strein):\n",
    "    num = strein.split(\" \")\n",
    "    number = len(num)\n",
    "    for letter in string:\n",
    "        for n in num:\n",
    "            if letter in n:\n",
    "                number -= 1\n",
    "                \n",
    "    return number\n",
    "        "
   ]
  },
  {
   "cell_type": "code",
   "execution_count": 17,
   "id": "105c349d",
   "metadata": {},
   "outputs": [
    {
     "data": {
      "text/plain": [
       "2"
      ]
     },
     "execution_count": 17,
     "metadata": {},
     "output_type": "execute_result"
    }
   ],
   "source": [
    "stone(\"ad\",\"hello world junior\")"
   ]
  },
  {
   "cell_type": "code",
   "execution_count": 18,
   "id": "597b6894",
   "metadata": {},
   "outputs": [
    {
     "name": "stdout",
     "output_type": "stream",
     "text": [
      "[1, 2, 3, 4, 5]\n",
      "range(1, 5)\n",
      "True\n"
     ]
    }
   ],
   "source": [
    "length = 5\n",
    "arr = [3,4,5,1,2]\n",
    "arr = sorted(arr)\n",
    "print(arr)\n",
    "print(range(1,length))\n",
    "total_num = 0\n",
    "for element in range(1,length+1):\n",
    "    if element in arr:\n",
    "        total_num += 1\n",
    "    else:\n",
    "        print(False)\n",
    "    \n",
    "if total_num == length:\n",
    "    print(True)\n",
    "else:\n",
    "    print(False)\n"
   ]
  },
  {
   "cell_type": "code",
   "execution_count": null,
   "id": "e810f877",
   "metadata": {},
   "outputs": [],
   "source": []
  },
  {
   "cell_type": "code",
   "execution_count": 19,
   "id": "ae580f23",
   "metadata": {},
   "outputs": [],
   "source": [
    "def solution(paths: list[list[str]]) -> str:\n",
    "    for path in paths:\n",
    "        if path[1] == (path+1)[0]:\n",
    "            pass\n",
    "        else:\n",
    "            if paths[path][0] == paths[path[-1]]:\n",
    "                return paths[path[-1]]\n",
    "            return path[1]\n",
    "        "
   ]
  },
  {
   "cell_type": "code",
   "execution_count": 20,
   "id": "3b4dc7da",
   "metadata": {},
   "outputs": [],
   "source": [
    "np.random.seed(42)\n",
    "tf.random.set_seed(42)"
   ]
  },
  {
   "cell_type": "code",
   "execution_count": 21,
   "id": "83725f5c",
   "metadata": {},
   "outputs": [],
   "source": [
    "model = keras.models.Sequential()\n",
    "model.add(keras.layers.Flatten(input_shape=[28,28]))\n",
    "model.add(keras.layers.Dense(300, activation='relu'))\n",
    "model.add(keras.layers.Dense(100, activation='relu'))\n",
    "model.add(keras.layers.Dense(10, activation='softmax'))\n"
   ]
  },
  {
   "cell_type": "code",
   "execution_count": 22,
   "id": "7607a341",
   "metadata": {},
   "outputs": [
    {
     "name": "stdout",
     "output_type": "stream",
     "text": [
      "Model: \"sequential\"\n",
      "_________________________________________________________________\n",
      " Layer (type)                Output Shape              Param #   \n",
      "=================================================================\n",
      " flatten (Flatten)           (None, 784)               0         \n",
      "                                                                 \n",
      " dense (Dense)               (None, 300)               235500    \n",
      "                                                                 \n",
      " dense_1 (Dense)             (None, 100)               30100     \n",
      "                                                                 \n",
      " dense_2 (Dense)             (None, 10)                1010      \n",
      "                                                                 \n",
      "=================================================================\n",
      "Total params: 266610 (1.02 MB)\n",
      "Trainable params: 266610 (1.02 MB)\n",
      "Non-trainable params: 0 (0.00 Byte)\n",
      "_________________________________________________________________\n"
     ]
    }
   ],
   "source": [
    "model.summary()"
   ]
  },
  {
   "cell_type": "code",
   "execution_count": 23,
   "id": "0317a0c0",
   "metadata": {},
   "outputs": [],
   "source": [
    "# pip install pydot"
   ]
  },
  {
   "cell_type": "code",
   "execution_count": 24,
   "id": "c7b5b4e7",
   "metadata": {},
   "outputs": [],
   "source": [
    "# keras.utils.plot_model(model)"
   ]
  },
  {
   "cell_type": "code",
   "execution_count": 25,
   "id": "9d6b5268",
   "metadata": {},
   "outputs": [],
   "source": [
    "weights, biases = model.layers[1].get_weights()"
   ]
  },
  {
   "cell_type": "code",
   "execution_count": 26,
   "id": "7dd95e8d",
   "metadata": {},
   "outputs": [
    {
     "data": {
      "text/plain": [
       "array([[-0.06178052,  0.01864588, -0.05615758, ..., -0.05766867,\n",
       "         0.03916186,  0.00838199],\n",
       "       [ 0.03246783, -0.02547571,  0.01655494, ..., -0.06176232,\n",
       "        -0.06874169, -0.04247953],\n",
       "       [-0.07133688,  0.04974602,  0.01970186, ...,  0.00638508,\n",
       "        -0.00345755, -0.03149051],\n",
       "       ...,\n",
       "       [-0.03871936, -0.05553304,  0.00867245, ..., -0.0298499 ,\n",
       "         0.02652178,  0.02098881],\n",
       "       [-0.06462713, -0.02686116,  0.03866988, ...,  0.02915915,\n",
       "         0.04789118, -0.06921232],\n",
       "       [ 0.07054687,  0.06508553,  0.06576717, ..., -0.03308349,\n",
       "         0.01730499, -0.03091612]], dtype=float32)"
      ]
     },
     "execution_count": 26,
     "metadata": {},
     "output_type": "execute_result"
    }
   ],
   "source": [
    "weights"
   ]
  },
  {
   "cell_type": "code",
   "execution_count": 27,
   "id": "f7c1fd16",
   "metadata": {},
   "outputs": [
    {
     "data": {
      "text/plain": [
       "(784, 300)"
      ]
     },
     "execution_count": 27,
     "metadata": {},
     "output_type": "execute_result"
    }
   ],
   "source": [
    "weights.shape"
   ]
  },
  {
   "cell_type": "code",
   "execution_count": 28,
   "id": "a19d437b",
   "metadata": {},
   "outputs": [
    {
     "data": {
      "text/plain": [
       "(300,)"
      ]
     },
     "execution_count": 28,
     "metadata": {},
     "output_type": "execute_result"
    }
   ],
   "source": [
    "biases.shape"
   ]
  },
  {
   "cell_type": "code",
   "execution_count": 29,
   "id": "8e8323f7",
   "metadata": {},
   "outputs": [],
   "source": [
    "model.compile(loss='sparse_categorical_crossentropy',\n",
    "              optimizer='sgd',\n",
    "              metrics=['accuracy'])"
   ]
  },
  {
   "cell_type": "code",
   "execution_count": 30,
   "id": "5abed61c",
   "metadata": {},
   "outputs": [
    {
     "name": "stdout",
     "output_type": "stream",
     "text": [
      "Epoch 1/10\n",
      "1719/1719 [==============================] - 14s 7ms/step - loss: 0.7317 - accuracy: 0.7572 - val_loss: 0.5251 - val_accuracy: 0.8218\n",
      "Epoch 2/10\n",
      "1719/1719 [==============================] - 11s 6ms/step - loss: 0.4892 - accuracy: 0.8290 - val_loss: 0.4362 - val_accuracy: 0.8496\n",
      "Epoch 3/10\n",
      "1719/1719 [==============================] - 10s 6ms/step - loss: 0.4427 - accuracy: 0.8435 - val_loss: 0.5340 - val_accuracy: 0.8032\n",
      "Epoch 4/10\n",
      "1719/1719 [==============================] - 11s 6ms/step - loss: 0.4160 - accuracy: 0.8543 - val_loss: 0.3927 - val_accuracy: 0.8658\n",
      "Epoch 5/10\n",
      "1719/1719 [==============================] - 11s 6ms/step - loss: 0.3976 - accuracy: 0.8609 - val_loss: 0.3786 - val_accuracy: 0.8662\n",
      "Epoch 6/10\n",
      "1719/1719 [==============================] - 10s 6ms/step - loss: 0.3786 - accuracy: 0.8665 - val_loss: 0.3734 - val_accuracy: 0.8704\n",
      "Epoch 7/10\n",
      "1719/1719 [==============================] - 11s 6ms/step - loss: 0.3656 - accuracy: 0.8711 - val_loss: 0.3609 - val_accuracy: 0.8738\n",
      "Epoch 8/10\n",
      "1719/1719 [==============================] - 10s 6ms/step - loss: 0.3543 - accuracy: 0.8741 - val_loss: 0.3911 - val_accuracy: 0.8566\n",
      "Epoch 9/10\n",
      "1719/1719 [==============================] - 11s 6ms/step - loss: 0.3435 - accuracy: 0.8783 - val_loss: 0.3553 - val_accuracy: 0.8746\n",
      "Epoch 10/10\n",
      "1719/1719 [==============================] - 11s 6ms/step - loss: 0.3341 - accuracy: 0.8807 - val_loss: 0.3503 - val_accuracy: 0.8738\n"
     ]
    }
   ],
   "source": [
    "model_history = model.fit(x_train, y_train, epochs=10, validation_data=(x_valid, y_valid))"
   ]
  },
  {
   "cell_type": "code",
   "execution_count": 31,
   "id": "ae5a3723",
   "metadata": {},
   "outputs": [
    {
     "data": {
      "text/plain": [
       "{'verbose': 1, 'epochs': 10, 'steps': 1719}"
      ]
     },
     "execution_count": 31,
     "metadata": {},
     "output_type": "execute_result"
    }
   ],
   "source": [
    "model_history.params"
   ]
  },
  {
   "cell_type": "code",
   "execution_count": 32,
   "id": "dc3e3e60",
   "metadata": {},
   "outputs": [
    {
     "data": {
      "text/plain": [
       "{'loss': [0.7316736578941345,\n",
       "  0.48916515707969666,\n",
       "  0.4427040219306946,\n",
       "  0.4160252511501312,\n",
       "  0.39764338731765747,\n",
       "  0.37859827280044556,\n",
       "  0.36563363671302795,\n",
       "  0.3542782664299011,\n",
       "  0.3435017168521881,\n",
       "  0.3340526521205902],\n",
       " 'accuracy': [0.7571818232536316,\n",
       "  0.8289636373519897,\n",
       "  0.8434908986091614,\n",
       "  0.8542545437812805,\n",
       "  0.8608545660972595,\n",
       "  0.866527259349823,\n",
       "  0.8710908889770508,\n",
       "  0.8741454482078552,\n",
       "  0.8783454298973083,\n",
       "  0.8806727528572083],\n",
       " 'val_loss': [0.5251337885856628,\n",
       "  0.4361651837825775,\n",
       "  0.5340377688407898,\n",
       "  0.3927028179168701,\n",
       "  0.3785673975944519,\n",
       "  0.37342900037765503,\n",
       "  0.36094042658805847,\n",
       "  0.39110565185546875,\n",
       "  0.3553023636341095,\n",
       "  0.3503303527832031],\n",
       " 'val_accuracy': [0.8217999935150146,\n",
       "  0.8496000170707703,\n",
       "  0.8032000064849854,\n",
       "  0.8658000230789185,\n",
       "  0.8661999702453613,\n",
       "  0.8704000115394592,\n",
       "  0.8737999796867371,\n",
       "  0.8565999865531921,\n",
       "  0.8745999932289124,\n",
       "  0.8737999796867371]}"
      ]
     },
     "execution_count": 32,
     "metadata": {},
     "output_type": "execute_result"
    }
   ],
   "source": [
    "model_history.history"
   ]
  },
  {
   "cell_type": "code",
   "execution_count": 33,
   "id": "40a80404",
   "metadata": {},
   "outputs": [
    {
     "data": {
      "image/png": "[encoded data removed]",
      "text/plain": [
       "<Figure size 800x500 with 1 Axes>"
      ]
     },
     "metadata": {},
     "output_type": "display_data"
    }
   ],
   "source": [
    "import pandas as pd\n",
    "pd.DataFrame(model_history.history).plot(figsize=(8,5))\n",
    "plt.grid(True)\n",
    "plt.gca().set_ylim(0,1)\n",
    "plt.show()"
   ]
  },
  {
   "cell_type": "code",
   "execution_count": 34,
   "id": "9e80f70d",
   "metadata": {},
   "outputs": [
    {
     "name": "stdout",
     "output_type": "stream",
     "text": [
      "313/313 [==============================] - 1s 4ms/step - loss: 0.3883 - accuracy: 0.8599\n"
     ]
    },
    {
     "data": {
      "text/plain": [
       "[0.3882826864719391, 0.8598999977111816]"
      ]
     },
     "execution_count": 34,
     "metadata": {},
     "output_type": "execute_result"
    }
   ],
   "source": [
    "model.evaluate(x_test, y_test)"
   ]
  },
  {
   "cell_type": "code",
   "execution_count": 35,
   "id": "065976d5",
   "metadata": {},
   "outputs": [],
   "source": [
    "x_new = x_test[:3]"
   ]
  },
  {
   "cell_type": "code",
   "execution_count": 36,
   "id": "d8c8c2d8",
   "metadata": {},
   "outputs": [
    {
     "name": "stdout",
     "output_type": "stream",
     "text": [
      "1/1 [==============================] - 0s 249ms/step\n"
     ]
    },
    {
     "data": {
      "text/plain": [
       "array([[0.  , 0.  , 0.  , 0.  , 0.  , 0.06, 0.  , 0.05, 0.  , 0.89],\n",
       "       [0.  , 0.  , 0.99, 0.  , 0.  , 0.  , 0.  , 0.  , 0.  , 0.  ],\n",
       "       [0.  , 1.  , 0.  , 0.  , 0.  , 0.  , 0.  , 0.  , 0.  , 0.  ]],\n",
       "      dtype=float32)"
      ]
     },
     "execution_count": 36,
     "metadata": {},
     "output_type": "execute_result"
    }
   ],
   "source": [
    "y_proba = model.predict(x_new)\n",
    "y_proba.round(2)"
   ]
  },
  {
   "cell_type": "code",
   "execution_count": 37,
   "id": "aa8cdce2",
   "metadata": {},
   "outputs": [
    {
     "name": "stdout",
     "output_type": "stream",
     "text": [
      "1/1 [==============================] - 0s 57ms/step\n"
     ]
    },
    {
     "data": {
      "text/plain": [
       "array([[2.0880909e-05, 7.5659216e-07, 4.0727798e-05, 4.1361596e-05,\n",
       "        1.0729615e-05, 5.8740031e-02, 4.2562213e-05, 5.0267309e-02,\n",
       "        3.5310935e-03, 8.8730460e-01],\n",
       "       [8.6627355e-05, 1.6907865e-07, 9.9428314e-01, 1.0858024e-06,\n",
       "        8.0312736e-04, 8.5225077e-10, 4.8239622e-03, 8.4981550e-11,\n",
       "        1.8173523e-06, 1.5381803e-10],\n",
       "       [6.2474457e-05, 9.9991512e-01, 2.1822621e-06, 1.7164804e-05,\n",
       "        2.4137294e-06, 3.4863998e-08, 3.5201489e-07, 2.1385963e-08,\n",
       "        2.1200555e-07, 6.4737660e-09]], dtype=float32)"
      ]
     },
     "execution_count": 37,
     "metadata": {},
     "output_type": "execute_result"
    }
   ],
   "source": [
    "y_pred = model.predict(x_new)\n",
    "y_pred"
   ]
  },
  {
   "cell_type": "code",
   "execution_count": 38,
   "id": "1407795c",
   "metadata": {},
   "outputs": [],
   "source": [
    "# np.array(class_names)[y_pred]"
   ]
  },
  {
   "cell_type": "code",
   "execution_count": 39,
   "id": "283d94f0",
   "metadata": {},
   "outputs": [
    {
     "name": "stdout",
     "output_type": "stream",
     "text": [
      "AxesImage(size=(28, 28))\n"
     ]
    },
    {
     "data": {
      "image/png": "[encoded data removed]",
      "text/plain": [
       "<Figure size 640x480 with 1 Axes>"
      ]
     },
     "metadata": {},
     "output_type": "display_data"
    }
   ],
   "source": [
    "print(plt.imshow(x_test[0]))"
   ]
  },
  {
   "cell_type": "code",
   "execution_count": 40,
   "id": "d2488cc9",
   "metadata": {},
   "outputs": [
    {
     "name": "stdout",
     "output_type": "stream",
     "text": [
      "AxesImage(size=(28, 28))\n"
     ]
    },
    {
     "data": {
      "image/png": "[encoded data removed]",
      "text/plain": [
       "<Figure size 640x480 with 1 Axes>"
      ]
     },
     "metadata": {},
     "output_type": "display_data"
    }
   ],
   "source": [
    "print(plt.imshow(x_test[1]))\n"
   ]
  },
  {
   "cell_type": "code",
   "execution_count": 41,
   "id": "04db6ea3",
   "metadata": {},
   "outputs": [
    {
     "data": {
      "image/png": "[encoded data removed]",
      "text/plain": [
       "<Figure size 640x480 with 1 Axes>"
      ]
     },
     "metadata": {},
     "output_type": "display_data"
    }
   ],
   "source": [
    "plt.imshow(x_test[2])\n",
    "plt.show()"
   ]
  },
  {
   "cell_type": "markdown",
   "id": "97c12f86",
   "metadata": {},
   "source": [
    "## Problem 2\n",
    "* Build and train a regression model using keras"
   ]
  },
  {
   "cell_type": "code",
   "execution_count": 42,
   "id": "e3bd31b6",
   "metadata": {},
   "outputs": [],
   "source": [
    "from sklearn.datasets import fetch_california_housing\n",
    "housing = fetch_california_housing()"
   ]
  },
  {
   "cell_type": "markdown",
   "id": "f259221a",
   "metadata": {},
   "source": [
    "### Dataset Characteristics\n",
    "<b> Number of instances </b>\n",
    "<br>\n",
    "20640\n",
    "<b>Number of attributes </b> <br>\n",
    "* 8 Numeric, predictive attributes and the target\n",
    "<b>Attribute Information</b>\n",
    "* MedInc  median income in block\n",
    "* HouseAge Median house age in block\n",
    "* AveRooms average number of rooms\n",
    "* Population block Population\n",
    "* AveOccup average house occupancy\n",
    "* Latitude house block latitude\n",
    "* Longitude house block longitude\n",
    "<br>\n",
    "\n",
    "<b>Target</b><br>\n",
    "The target variable is the median house value in units of 100, 000 for California districts"
   ]
  },
  {
   "cell_type": "code",
   "execution_count": 43,
   "id": "cac16a0d",
   "metadata": {},
   "outputs": [
    {
     "data": {
      "text/plain": [
       "['MedInc',\n",
       " 'HouseAge',\n",
       " 'AveRooms',\n",
       " 'AveBedrms',\n",
       " 'Population',\n",
       " 'AveOccup',\n",
       " 'Latitude',\n",
       " 'Longitude']"
      ]
     },
     "execution_count": 43,
     "metadata": {},
     "output_type": "execute_result"
    }
   ],
   "source": [
    "housing.feature_names"
   ]
  },
  {
   "cell_type": "code",
   "execution_count": 44,
   "id": "85c1c948",
   "metadata": {},
   "outputs": [
    {
     "data": {
      "text/plain": [
       "array([4.526, 3.585, 3.521, ..., 0.923, 0.847, 0.894])"
      ]
     },
     "execution_count": 44,
     "metadata": {},
     "output_type": "execute_result"
    }
   ],
   "source": [
    "housing.target"
   ]
  },
  {
   "cell_type": "code",
   "execution_count": 45,
   "id": "63af5785",
   "metadata": {},
   "outputs": [],
   "source": [
    "# by default test size = 0.25\n",
    "from sklearn.model_selection import train_test_split\n",
    "x_train_full,x_test, y_train_full, y_test = train_test_split(housing.data, housing.target, random_state=42)\n",
    "x_train, x_valid, y_train, y_valid = train_test_split(x_train_full, y_train_full, random_state=42)"
   ]
  },
  {
   "cell_type": "code",
   "execution_count": 46,
   "id": "f4013fe2",
   "metadata": {},
   "outputs": [
    {
     "data": {
      "text/plain": [
       "((11610, 8), (3870, 8), (5160, 8))"
      ]
     },
     "execution_count": 46,
     "metadata": {},
     "output_type": "execute_result"
    }
   ],
   "source": [
    "x_train.shape, x_valid.shape, x_test.shape"
   ]
  },
  {
   "cell_type": "code",
   "execution_count": 47,
   "id": "e8b1b8ca",
   "metadata": {},
   "outputs": [
    {
     "data": {
      "text/plain": [
       "((11610,), (3870,), (5160,))"
      ]
     },
     "execution_count": 47,
     "metadata": {},
     "output_type": "execute_result"
    }
   ],
   "source": [
    "y_train.shape, y_valid.shape, y_test.shape"
   ]
  },
  {
   "cell_type": "code",
   "execution_count": 48,
   "id": "e046a61b",
   "metadata": {},
   "outputs": [],
   "source": [
    "from sklearn.preprocessing import StandardScaler\n",
    "scaler = StandardScaler()\n",
    "x_train = scaler.fit_transform(x_train)\n",
    "x_valid = scaler.transform(x_valid)\n",
    "x_test = scaler.transform(x_test)\n"
   ]
  },
  {
   "cell_type": "code",
   "execution_count": 49,
   "id": "ba6ef5ea",
   "metadata": {},
   "outputs": [],
   "source": [
    "np.random.seed(42)\n",
    "tf.random.set_seed(42)"
   ]
  },
  {
   "cell_type": "code",
   "execution_count": 50,
   "id": "50995916",
   "metadata": {},
   "outputs": [
    {
     "data": {
      "text/plain": [
       "((11610, 8), (3870, 8), (5160, 8))"
      ]
     },
     "execution_count": 50,
     "metadata": {},
     "output_type": "execute_result"
    }
   ],
   "source": [
    "x_train.shape, x_valid.shape, x_test.shape"
   ]
  },
  {
   "cell_type": "code",
   "execution_count": 52,
   "id": "7a379aae",
   "metadata": {},
   "outputs": [],
   "source": [
    "model = keras.models.Sequential([\n",
    "    keras.layers.Dense(30, activation=\"relu\", input_shape=[8]),\n",
    "    keras.layers.Dense(30, activation= 'relu'),\n",
    "    keras.layers.Dense(1)\n",
    "])"
   ]
  },
  {
   "cell_type": "code",
   "execution_count": 53,
   "id": "446aa8c0",
   "metadata": {},
   "outputs": [
    {
     "name": "stdout",
     "output_type": "stream",
     "text": [
      "Model: \"sequential_1\"\n",
      "_________________________________________________________________\n",
      " Layer (type)                Output Shape              Param #   \n",
      "=================================================================\n",
      " dense_4 (Dense)             (None, 30)                270       \n",
      "                                                                 \n",
      " dense_5 (Dense)             (None, 30)                930       \n",
      "                                                                 \n",
      " dense_6 (Dense)             (None, 1)                 31        \n",
      "                                                                 \n",
      "=================================================================\n",
      "Total params: 1231 (4.81 KB)\n",
      "Trainable params: 1231 (4.81 KB)\n",
      "Non-trainable params: 0 (0.00 Byte)\n",
      "_________________________________________________________________\n"
     ]
    }
   ],
   "source": [
    "model.summary()"
   ]
  },
  {
   "cell_type": "code",
   "execution_count": 55,
   "id": "6b1f29fd",
   "metadata": {},
   "outputs": [],
   "source": [
    "model.compile(loss=\"mean_squared_error\",\n",
    "             optimizer=keras.optimizers.SGD(learning_rate=1e-3),\n",
    "             metrics=['mae'])"
   ]
  },
  {
   "cell_type": "code",
   "execution_count": 56,
   "id": "ff72d4a5",
   "metadata": {},
   "outputs": [
    {
     "name": "stdout",
     "output_type": "stream",
     "text": [
      "Epoch 1/50\n",
      "363/363 [==============================] - 2s 4ms/step - loss: 2.2473 - mae: 1.0988 - val_loss: 2.7125 - val_mae: 0.7418\n",
      "Epoch 2/50\n",
      "363/363 [==============================] - 1s 3ms/step - loss: 0.8716 - mae: 0.7004 - val_loss: 1.4617 - val_mae: 0.6821\n",
      "Epoch 3/50\n",
      "363/363 [==============================] - 1s 3ms/step - loss: 0.7742 - mae: 0.6618 - val_loss: 0.8925 - val_mae: 0.6372\n",
      "Epoch 4/50\n",
      "363/363 [==============================] - 1s 3ms/step - loss: 0.7188 - mae: 0.6340 - val_loss: 0.7438 - val_mae: 0.6162\n",
      "Epoch 5/50\n",
      "363/363 [==============================] - 1s 3ms/step - loss: 0.6799 - mae: 0.6129 - val_loss: 0.6395 - val_mae: 0.5881\n",
      "Epoch 6/50\n",
      "363/363 [==============================] - 1s 3ms/step - loss: 0.6464 - mae: 0.5955 - val_loss: 0.6053 - val_mae: 0.5749\n",
      "Epoch 7/50\n",
      "363/363 [==============================] - 1s 3ms/step - loss: 0.6188 - mae: 0.5800 - val_loss: 0.5753 - val_mae: 0.5590\n",
      "Epoch 8/50\n",
      "363/363 [==============================] - 1s 3ms/step - loss: 0.5934 - mae: 0.5666 - val_loss: 0.5517 - val_mae: 0.5439\n",
      "Epoch 9/50\n",
      "363/363 [==============================] - 1s 3ms/step - loss: 0.5704 - mae: 0.5540 - val_loss: 0.5286 - val_mae: 0.5326\n",
      "Epoch 10/50\n",
      "363/363 [==============================] - 1s 3ms/step - loss: 0.5490 - mae: 0.5420 - val_loss: 0.5091 - val_mae: 0.5199\n",
      "Epoch 11/50\n",
      "363/363 [==============================] - 1s 3ms/step - loss: 0.5294 - mae: 0.5302 - val_loss: 0.4878 - val_mae: 0.5106\n",
      "Epoch 12/50\n",
      "363/363 [==============================] - 1s 3ms/step - loss: 0.5117 - mae: 0.5203 - val_loss: 0.4710 - val_mae: 0.4980\n",
      "Epoch 13/50\n",
      "363/363 [==============================] - 1s 3ms/step - loss: 0.4957 - mae: 0.5113 - val_loss: 0.4554 - val_mae: 0.4906\n",
      "Epoch 14/50\n",
      "363/363 [==============================] - 1s 3ms/step - loss: 0.4818 - mae: 0.5027 - val_loss: 0.4429 - val_mae: 0.4846\n",
      "Epoch 15/50\n",
      "363/363 [==============================] - 1s 3ms/step - loss: 0.4700 - mae: 0.4967 - val_loss: 0.4323 - val_mae: 0.4759\n",
      "Epoch 16/50\n",
      "363/363 [==============================] - 1s 3ms/step - loss: 0.4599 - mae: 0.4910 - val_loss: 0.4240 - val_mae: 0.4711\n",
      "Epoch 17/50\n",
      "363/363 [==============================] - 1s 3ms/step - loss: 0.4513 - mae: 0.4857 - val_loss: 0.4159 - val_mae: 0.4646\n",
      "Epoch 18/50\n",
      "363/363 [==============================] - 1s 3ms/step - loss: 0.4438 - mae: 0.4817 - val_loss: 0.4117 - val_mae: 0.4590\n",
      "Epoch 19/50\n",
      "363/363 [==============================] - 1s 3ms/step - loss: 0.4368 - mae: 0.4770 - val_loss: 0.4060 - val_mae: 0.4562\n",
      "Epoch 20/50\n",
      "363/363 [==============================] - 1s 3ms/step - loss: 0.4314 - mae: 0.4741 - val_loss: 0.4099 - val_mae: 0.4561\n",
      "Epoch 21/50\n",
      "363/363 [==============================] - 1s 3ms/step - loss: 0.4261 - mae: 0.4711 - val_loss: 0.4099 - val_mae: 0.4554\n",
      "Epoch 22/50\n",
      "363/363 [==============================] - 1s 3ms/step - loss: 0.4219 - mae: 0.4687 - val_loss: 0.4119 - val_mae: 0.4532\n",
      "Epoch 23/50\n",
      "363/363 [==============================] - 1s 3ms/step - loss: 0.4180 - mae: 0.4668 - val_loss: 0.3978 - val_mae: 0.4442\n",
      "Epoch 24/50\n",
      "363/363 [==============================] - 1s 3ms/step - loss: 0.4147 - mae: 0.4639 - val_loss: 0.3986 - val_mae: 0.4443\n",
      "Epoch 25/50\n",
      "363/363 [==============================] - 1s 3ms/step - loss: 0.4116 - mae: 0.4624 - val_loss: 0.4099 - val_mae: 0.4449\n",
      "Epoch 26/50\n",
      "363/363 [==============================] - 1s 3ms/step - loss: 0.4091 - mae: 0.4608 - val_loss: 0.4059 - val_mae: 0.4428\n",
      "Epoch 27/50\n",
      "363/363 [==============================] - 1s 3ms/step - loss: 0.4068 - mae: 0.4592 - val_loss: 0.3985 - val_mae: 0.4423\n",
      "Epoch 28/50\n",
      "363/363 [==============================] - 1s 3ms/step - loss: 0.4047 - mae: 0.4576 - val_loss: 0.4043 - val_mae: 0.4439\n",
      "Epoch 29/50\n",
      "363/363 [==============================] - 1s 3ms/step - loss: 0.4027 - mae: 0.4567 - val_loss: 0.3973 - val_mae: 0.4415\n",
      "Epoch 30/50\n",
      "363/363 [==============================] - 1s 3ms/step - loss: 0.4007 - mae: 0.4553 - val_loss: 0.4004 - val_mae: 0.4389\n",
      "Epoch 31/50\n",
      "363/363 [==============================] - 1s 3ms/step - loss: 0.3985 - mae: 0.4539 - val_loss: 0.3915 - val_mae: 0.4364\n",
      "Epoch 32/50\n",
      "363/363 [==============================] - 1s 3ms/step - loss: 0.3968 - mae: 0.4527 - val_loss: 0.4056 - val_mae: 0.4408\n",
      "Epoch 33/50\n",
      "363/363 [==============================] - 1s 3ms/step - loss: 0.3956 - mae: 0.4521 - val_loss: 0.3919 - val_mae: 0.4369\n",
      "Epoch 34/50\n",
      "363/363 [==============================] - 1s 3ms/step - loss: 0.3937 - mae: 0.4505 - val_loss: 0.3892 - val_mae: 0.4351\n",
      "Epoch 35/50\n",
      "363/363 [==============================] - 1s 3ms/step - loss: 0.3921 - mae: 0.4496 - val_loss: 0.4019 - val_mae: 0.4374\n",
      "Epoch 36/50\n",
      "363/363 [==============================] - 1s 3ms/step - loss: 0.3904 - mae: 0.4487 - val_loss: 0.3811 - val_mae: 0.4311\n",
      "Epoch 37/50\n",
      "363/363 [==============================] - 1s 3ms/step - loss: 0.3888 - mae: 0.4475 - val_loss: 0.3854 - val_mae: 0.4323\n",
      "Epoch 38/50\n",
      "363/363 [==============================] - 1s 3ms/step - loss: 0.3873 - mae: 0.4465 - val_loss: 0.3815 - val_mae: 0.4302\n",
      "Epoch 39/50\n",
      "363/363 [==============================] - 1s 3ms/step - loss: 0.3857 - mae: 0.4454 - val_loss: 0.3750 - val_mae: 0.4285\n",
      "Epoch 40/50\n",
      "363/363 [==============================] - 1s 3ms/step - loss: 0.3839 - mae: 0.4443 - val_loss: 0.3846 - val_mae: 0.4271\n",
      "Epoch 41/50\n",
      "363/363 [==============================] - 1s 3ms/step - loss: 0.3825 - mae: 0.4426 - val_loss: 0.3830 - val_mae: 0.4284\n",
      "Epoch 42/50\n",
      "363/363 [==============================] - 1s 3ms/step - loss: 0.3811 - mae: 0.4421 - val_loss: 0.3827 - val_mae: 0.4253\n",
      "Epoch 43/50\n",
      "363/363 [==============================] - 1s 3ms/step - loss: 0.3790 - mae: 0.4400 - val_loss: 0.3802 - val_mae: 0.4248\n",
      "Epoch 44/50\n",
      "363/363 [==============================] - 1s 3ms/step - loss: 0.3774 - mae: 0.4388 - val_loss: 0.3819 - val_mae: 0.4263\n",
      "Epoch 45/50\n",
      "363/363 [==============================] - 1s 3ms/step - loss: 0.3760 - mae: 0.4385 - val_loss: 0.3710 - val_mae: 0.4202\n",
      "Epoch 46/50\n",
      "363/363 [==============================] - 1s 3ms/step - loss: 0.3743 - mae: 0.4358 - val_loss: 0.3688 - val_mae: 0.4218\n",
      "Epoch 47/50\n",
      "363/363 [==============================] - 1s 3ms/step - loss: 0.3729 - mae: 0.4359 - val_loss: 0.3644 - val_mae: 0.4182\n",
      "Epoch 48/50\n",
      "363/363 [==============================] - 1s 3ms/step - loss: 0.3717 - mae: 0.4343 - val_loss: 0.3732 - val_mae: 0.4206\n",
      "Epoch 49/50\n",
      "363/363 [==============================] - 1s 3ms/step - loss: 0.3705 - mae: 0.4338 - val_loss: 0.3718 - val_mae: 0.4198\n",
      "Epoch 50/50\n",
      "363/363 [==============================] - 1s 3ms/step - loss: 0.3692 - mae: 0.4327 - val_loss: 0.3616 - val_mae: 0.4170\n"
     ]
    }
   ],
   "source": [
    "model_hist = model.fit(x_train, y_train, epochs=50, validation_data=(x_valid, y_valid))"
   ]
  },
  {
   "cell_type": "code",
   "execution_count": 57,
   "id": "5d02b3f4",
   "metadata": {},
   "outputs": [
    {
     "name": "stdout",
     "output_type": "stream",
     "text": [
      "162/162 [==============================] - 1s 3ms/step - loss: 0.3707 - mae: 0.4313\n"
     ]
    }
   ],
   "source": [
    "mae_test = model.evaluate(x_test, y_test)"
   ]
  },
  {
   "cell_type": "code",
   "execution_count": 59,
   "id": "6d233db8",
   "metadata": {},
   "outputs": [
    {
     "data": {
      "text/plain": [
       "{'loss': [2.247250556945801,\n",
       "  0.8715564012527466,\n",
       "  0.7741782665252686,\n",
       "  0.7187747359275818,\n",
       "  0.6799395084381104,\n",
       "  0.646409809589386,\n",
       "  0.6187838315963745,\n",
       "  0.5934493541717529,\n",
       "  0.5704279541969299,\n",
       "  0.5490479469299316,\n",
       "  0.5294478535652161,\n",
       "  0.5116816759109497,\n",
       "  0.4957406520843506,\n",
       "  0.4818430542945862,\n",
       "  0.4700014889240265,\n",
       "  0.4598586857318878,\n",
       "  0.4512738287448883,\n",
       "  0.44375425577163696,\n",
       "  0.43682461977005005,\n",
       "  0.4314022362232208,\n",
       "  0.42607706785202026,\n",
       "  0.42194515466690063,\n",
       "  0.4180264472961426,\n",
       "  0.41472548246383667,\n",
       "  0.41155877709388733,\n",
       "  0.4090578556060791,\n",
       "  0.4068466126918793,\n",
       "  0.4046502411365509,\n",
       "  0.40265437960624695,\n",
       "  0.40069136023521423,\n",
       "  0.3985086679458618,\n",
       "  0.3967842757701874,\n",
       "  0.39563608169555664,\n",
       "  0.3936689496040344,\n",
       "  0.3920517861843109,\n",
       "  0.3903994858264923,\n",
       "  0.38884586095809937,\n",
       "  0.3873307704925537,\n",
       "  0.3856872618198395,\n",
       "  0.38393840193748474,\n",
       "  0.38246044516563416,\n",
       "  0.38106241822242737,\n",
       "  0.37904104590415955,\n",
       "  0.3773755431175232,\n",
       "  0.3760484755039215,\n",
       "  0.37432861328125,\n",
       "  0.37288129329681396,\n",
       "  0.37168315052986145,\n",
       "  0.370532751083374,\n",
       "  0.36924391984939575],\n",
       " 'mae': [1.0988057851791382,\n",
       "  0.7004320621490479,\n",
       "  0.6617642641067505,\n",
       "  0.6340305805206299,\n",
       "  0.6128835082054138,\n",
       "  0.5955257415771484,\n",
       "  0.579974353313446,\n",
       "  0.5665600895881653,\n",
       "  0.5539537072181702,\n",
       "  0.5420008897781372,\n",
       "  0.5302399396896362,\n",
       "  0.5203335881233215,\n",
       "  0.5113381743431091,\n",
       "  0.5026755332946777,\n",
       "  0.4967324733734131,\n",
       "  0.4910350441932678,\n",
       "  0.4856850802898407,\n",
       "  0.4817168712615967,\n",
       "  0.47702091932296753,\n",
       "  0.4741474986076355,\n",
       "  0.4711298644542694,\n",
       "  0.4687403738498688,\n",
       "  0.466774046421051,\n",
       "  0.4639131426811218,\n",
       "  0.46240028738975525,\n",
       "  0.46079665422439575,\n",
       "  0.45921123027801514,\n",
       "  0.45757395029067993,\n",
       "  0.4566682279109955,\n",
       "  0.4553113579750061,\n",
       "  0.453931599855423,\n",
       "  0.4527416527271271,\n",
       "  0.4521048367023468,\n",
       "  0.45054253935813904,\n",
       "  0.4495704174041748,\n",
       "  0.4486815631389618,\n",
       "  0.4475054442882538,\n",
       "  0.44649460911750793,\n",
       "  0.44541528820991516,\n",
       "  0.4442542493343353,\n",
       "  0.4426147937774658,\n",
       "  0.4420629143714905,\n",
       "  0.44000107049942017,\n",
       "  0.43880775570869446,\n",
       "  0.43847495317459106,\n",
       "  0.4357724189758301,\n",
       "  0.43588870763778687,\n",
       "  0.43430161476135254,\n",
       "  0.43379974365234375,\n",
       "  0.43270671367645264],\n",
       " 'val_loss': [2.712545156478882,\n",
       "  1.4617483615875244,\n",
       "  0.8925230503082275,\n",
       "  0.7437633275985718,\n",
       "  0.6395434737205505,\n",
       "  0.6053319573402405,\n",
       "  0.5752871632575989,\n",
       "  0.5516942739486694,\n",
       "  0.5286350846290588,\n",
       "  0.5091167688369751,\n",
       "  0.48778235912323,\n",
       "  0.47104281187057495,\n",
       "  0.4553658664226532,\n",
       "  0.44289103150367737,\n",
       "  0.4323238730430603,\n",
       "  0.42402592301368713,\n",
       "  0.4158667325973511,\n",
       "  0.4117286205291748,\n",
       "  0.40601620078086853,\n",
       "  0.4098677933216095,\n",
       "  0.40993732213974,\n",
       "  0.41185885667800903,\n",
       "  0.3978089988231659,\n",
       "  0.39856666326522827,\n",
       "  0.40994471311569214,\n",
       "  0.4058668613433838,\n",
       "  0.39850038290023804,\n",
       "  0.4043114185333252,\n",
       "  0.3972855806350708,\n",
       "  0.4003945589065552,\n",
       "  0.39149656891822815,\n",
       "  0.4056350886821747,\n",
       "  0.3919462561607361,\n",
       "  0.3892129957675934,\n",
       "  0.40187305212020874,\n",
       "  0.38107067346572876,\n",
       "  0.3854300081729889,\n",
       "  0.38149741291999817,\n",
       "  0.3750200867652893,\n",
       "  0.3846254348754883,\n",
       "  0.38295596837997437,\n",
       "  0.38270318508148193,\n",
       "  0.38019460439682007,\n",
       "  0.3819006681442261,\n",
       "  0.37099286913871765,\n",
       "  0.36879706382751465,\n",
       "  0.36443743109703064,\n",
       "  0.3731975555419922,\n",
       "  0.3718273937702179,\n",
       "  0.361635684967041],\n",
       " 'val_mae': [0.7417761087417603,\n",
       "  0.6820577383041382,\n",
       "  0.6371815800666809,\n",
       "  0.616198718547821,\n",
       "  0.5881152153015137,\n",
       "  0.5749416947364807,\n",
       "  0.5589622259140015,\n",
       "  0.5439367890357971,\n",
       "  0.5325850248336792,\n",
       "  0.5199317932128906,\n",
       "  0.5105527639389038,\n",
       "  0.49795839190483093,\n",
       "  0.4906451106071472,\n",
       "  0.48463648557662964,\n",
       "  0.47585541009902954,\n",
       "  0.4711150825023651,\n",
       "  0.46458351612091064,\n",
       "  0.4590149521827698,\n",
       "  0.4562280774116516,\n",
       "  0.4561362564563751,\n",
       "  0.45540952682495117,\n",
       "  0.4532454013824463,\n",
       "  0.44422197341918945,\n",
       "  0.4442566931247711,\n",
       "  0.444926381111145,\n",
       "  0.4428096115589142,\n",
       "  0.44229820370674133,\n",
       "  0.4438708424568176,\n",
       "  0.4414697587490082,\n",
       "  0.43887630105018616,\n",
       "  0.43642938137054443,\n",
       "  0.4408452808856964,\n",
       "  0.4368836283683777,\n",
       "  0.435123085975647,\n",
       "  0.43739694356918335,\n",
       "  0.43112748861312866,\n",
       "  0.43229082226753235,\n",
       "  0.43018838763237,\n",
       "  0.4284592270851135,\n",
       "  0.42706742882728577,\n",
       "  0.4283784031867981,\n",
       "  0.4252888560295105,\n",
       "  0.42481154203414917,\n",
       "  0.4263095259666443,\n",
       "  0.4201914966106415,\n",
       "  0.4217604994773865,\n",
       "  0.41817599534988403,\n",
       "  0.4206174612045288,\n",
       "  0.4198068678379059,\n",
       "  0.41696199774742126]}"
      ]
     },
     "execution_count": 59,
     "metadata": {},
     "output_type": "execute_result"
    }
   ],
   "source": [
    "model_hist.history"
   ]
  },
  {
   "cell_type": "code",
   "execution_count": 64,
   "id": "9fe4f60d",
   "metadata": {},
   "outputs": [
    {
     "data": {
      "image/png": "[encoded data removed]",
      "text/plain": [
       "<Figure size 800x500 with 1 Axes>"
      ]
     },
     "metadata": {},
     "output_type": "display_data"
    }
   ],
   "source": [
    "pd.DataFrame(model_hist.history).plot(figsize=(8,5))\n",
    "plt.grid()\n",
    "plt.gca().set_ylim(0,1) # makes y axix starts from 0 as the minimum and ends as 1 as the maximum value...\n",
    "plt.show()"
   ]
  },
  {
   "cell_type": "code",
   "execution_count": 66,
   "id": "68933731",
   "metadata": {},
   "outputs": [],
   "source": [
    "x_new = x_test[:3]"
   ]
  },
  {
   "cell_type": "code",
   "execution_count": 67,
   "id": "89b6d2bf",
   "metadata": {},
   "outputs": [
    {
     "name": "stdout",
     "output_type": "stream",
     "text": [
      "1/1 [==============================] - 0s 156ms/step\n",
      "[[0.67734647]\n",
      " [1.8792167 ]\n",
      " [3.8030787 ]]\n",
      "[0.477   0.458   5.00001]\n"
     ]
    }
   ],
   "source": [
    "y_pred = model.predict(x_new)\n",
    "print(y_pred)\n",
    "print(y_test[:3])"
   ]
  },
  {
   "cell_type": "code",
   "execution_count": null,
   "id": "c49317c8",
   "metadata": {},
   "outputs": [],
   "source": []
  }
 ],
 "metadata": {
  "kernelspec": {
   "display_name": "Python 3 (ipykernel)",
   "language": "python",
   "name": "python3"
  },
  "language_info": {
   "codemirror_mode": {
    "name": "ipython",
    "version": 3
   },
   "file_extension": ".py",
   "mimetype": "text/x-python",
   "name": "python",
   "nbconvert_exporter": "python",
   "pygments_lexer": "ipython3",
   "version": "3.10.9"
  }
 },
 "nbformat": 4,
 "nbformat_minor": 5
}
